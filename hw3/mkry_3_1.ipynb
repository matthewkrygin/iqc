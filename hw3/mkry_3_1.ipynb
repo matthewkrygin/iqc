{
 "cells": [
  {
   "cell_type": "markdown",
   "metadata": {},
   "source": [
    "# Problem 1 of HW 3\n",
    "$\\newcommand{\\Ket}[1]{\\left|#1\\right>}$\n",
    "$\\newcommand{\\Bra}[1]{\\left<#1\\right|}$"
   ]
  },
  {
   "cell_type": "markdown",
   "metadata": {},
   "source": [
    "## Part (I)\n",
    "Suppose we have 4 qubit system with 2 input qubits and 2 output qubits.\n",
    "Applying $H^{\\otimes2}$ operator to input qubits and the $\\textit{U}_f$, one will get $\\frac{1}{2}\\sum_{a=0}^{3} \\Ket{a}\\Ket{f(a)}$\n",
    "\n",
    "Next, applying QFT to the output pair of qubits, one will get $\\frac{1}{4}\\sum_{a=0}^{3}\\Ket{a} \\sum_{b=0}^{3} \\exp{\\frac{i\\pi f(a)b}{2}}\\Ket{b}$ \n",
    "\n",
    "Applying $H^{\\otimes2}$ again on input pair, one will get the following state:\n",
    "$$ \n",
    "\\frac{1}{8} (\\Ket{0}_x + \\Ket{1}_x + \\Ket{2}_x + \\Ket{3}_x)\\sum_{b=0}^{3} \\exp{\\frac{i\\pi f(0)b}{2}}\\Ket{b} + \n",
    "\\frac{1}{8} (\\Ket{0}_x - \\Ket{1}_x + \\Ket{2}_x - \\Ket{3}_x)\\sum_{b=0}^{3} \\exp{\\frac{i\\pi f(1)b}{2}}\\Ket{b} + \n",
    "$$\n",
    "$$ \n",
    "+ \\frac{1}{8} (\\Ket{0}_x + \\Ket{1}_x - \\Ket{2}_x - \\Ket{3}_x)\\sum_{b=0}^{3} \\exp{\\frac{i\\pi f(2)b}{2}}\\Ket{b}\n",
    "+ \\frac{1}{8} (\\Ket{0}_x - \\Ket{1}_x - \\Ket{2}_x + \\Ket{3}_x)\\sum_{b=0}^{3} \\exp{\\frac{i\\pi f(3)b}{2}}\\Ket{b}\n",
    "$$\n",
    "After measurement, one will get that if f(0) = f(2) and f(1) = f(3), then the probability of $\\Ket{0}_x$ and $\\Ket{1}_x$ states is zero"
   ]
  },
  {
   "cell_type": "markdown",
   "metadata": {},
   "source": [
    "## Part (II)"
   ]
  },
  {
   "cell_type": "code",
   "execution_count": 1,
   "metadata": {},
   "outputs": [],
   "source": [
    "from qiskit import *\n",
    "from math import *\n",
    "import random"
   ]
  },
  {
   "cell_type": "code",
   "execution_count": 50,
   "metadata": {},
   "outputs": [
    {
     "data": {
      "image/png": "[encoded data removed]",
      "text/plain": [
       "<Figure size 983.577x264.88 with 1 Axes>"
      ]
     },
     "execution_count": 50,
     "metadata": {},
     "output_type": "execute_result"
    }
   ],
   "source": [
    "backend = BasicAer.get_backend('unitary_simulator')\n",
    "qc = QuantumCircuit(3, 3)\n",
    "\n",
    "# let state be |10>\n",
    "st = 2\n",
    "qc.initialize([1, 0], 0)\n",
    "qc.initialize([0, 1], 1)\n",
    "\n",
    "        \n",
    "n = 3\n",
    "\n",
    "qc.barrier() # check if phase is 0 (2pi)\n",
    "# QFT\n",
    "w = pi\n",
    "qc.swap(0, 2)\n",
    "qc.h(0)\n",
    "qc.cu1(w / 2, 0, 1)\n",
    "qc.cu1(w / 4, 0, 2)\n",
    "qc.barrier()\n",
    "qc.h(1)\n",
    "qc.cu1(w / 2, 1, 2)\n",
    "qc.barrier()\n",
    "qc.h(2)\n",
    "qc.draw('mpl')"
   ]
  },
  {
   "cell_type": "code",
   "execution_count": 51,
   "metadata": {},
   "outputs": [
    {
     "name": "stdout",
     "output_type": "stream",
     "text": [
      "phase expected: 0.0, phase computed: 6.283185307179586\n",
      "phase expected: 1.5707963267948966, phase computed: 1.5707963267948963\n",
      "phase expected: 3.141592653589793, phase computed: 3.141592653589793\n",
      "phase expected: 4.71238898038469, phase computed: 4.71238898038469\n",
      "phase expected: 0.0, phase computed: 6.283185307179586\n",
      "phase expected: 1.5707963267948966, phase computed: 1.5707963267948963\n",
      "phase expected: 3.141592653589793, phase computed: 3.141592653589793\n",
      "phase expected: 4.71238898038469, phase computed: 4.71238898038469\n"
     ]
    }
   ],
   "source": [
    "import cmath\n",
    "job = execute(qc, backend)\n",
    "result = job.result()\n",
    "res = result.get_unitary(qc, decimals=3)\n",
    "res = [x[0] for x in res]\n",
    "# for QFT we get (2 * pi * k * st / (2 ** n) mod 2pi\n",
    "for k in range(2 ** n):\n",
    "    print(\"phase expected: {}, phase computed: {}\".format((2 * pi * k * st / (2 ** n)) % (2 * pi), cmath.phase(res[k]) % (2 * pi)))"
   ]
  }
 ],
 "metadata": {
  "kernelspec": {
   "display_name": "Python 3",
   "language": "python",
   "name": "python3"
  },
  "language_info": {
   "codemirror_mode": {
    "name": "ipython",
    "version": 3
   },
   "file_extension": ".py",
   "mimetype": "text/x-python",
   "name": "python",
   "nbconvert_exporter": "python",
   "pygments_lexer": "ipython3",
   "version": "3.8.3"
  }
 },
 "nbformat": 4,
 "nbformat_minor": 4
}
