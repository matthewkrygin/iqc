{
 "cells": [
  {
   "cell_type": "markdown",
   "metadata": {},
   "source": [
    "# Problem 1 of HW 2"
   ]
  },
  {
   "cell_type": "markdown",
   "metadata": {},
   "source": [
    "$\\newcommand{\\Ket}[1]{\\left|#1\\right>}$\n",
    "$\\newcommand{\\Bra}[1]{\\left<#1\\right|}$\n",
    "$$\\Ket{\\phi} = \\frac{1}{\\sqrt{2}} \\Ket{0} \\Ket{f(0)} + \\frac{1}{\\sqrt{2}} \\Ket{1} \\Ket{f(1)} = \\frac{1}{sqrt{2}} [ (1 - f(0)) \\Ket{00} + (1 - f(1)) \\Ket{01} + f(0) \\Ket{10} + f(1) \\Ket{11} ] $$"
   ]
  },
  {
   "cell_type": "markdown",
   "metadata": {},
   "source": [
    "$$ H_{12} = H_1{\\otimes}H_2 = \\frac{1}{2} \\begin{bmatrix} 1 & 1 & 1 & 1 \\\\ 1 & -1 & 1 & -1 \\\\ 1 & 1 & -1 & -1 \\\\ 1 & -1 & -1 & 1 \\end{bmatrix} $$"
   ]
  },
  {
   "cell_type": "markdown",
   "metadata": {},
   "source": [
    "Applying Hadamart: \n",
    "$$ H_{12}\\Ket{\\phi} = \\frac{1}{2\\sqrt{2}} [ 2 \\Ket{00} + 2(1 - f(1) - f(0)) \\Ket{10} + 2(f(0) - f(1)) \\Ket{11} ] $$"
   ]
  },
  {
   "cell_type": "markdown",
   "metadata": {},
   "source": [
    "### f(0) = f(1): case of balanced function\n",
    "$$ H_{12}\\Ket{\\phi} = \\frac{1}{\\sqrt{2}} [ \\Ket{00} + (1-2f(0)) \\Ket{10} ] $$"
   ]
  },
  {
   "cell_type": "markdown",
   "metadata": {},
   "source": [
    "### f(0) $\\neq$ f(1): f(1) = 1 - f(0)\n",
    "$$ H_{12}\\Ket{\\phi} = \\frac{1}{\\sqrt{2}} [ \\Ket{00} + (1 - 2f(0)) \\Ket{11} ] $$"
   ]
  },
  {
   "cell_type": "markdown",
   "metadata": {},
   "source": [
    "Sum of the squared coeffs is equal to 1, so, in case 1 there is 50% chance to get $\\Ket{00}$ or $\\Ket{10}$. Otherwise, in case 2 there is 50% chance to get $\\Ket{00}$ or $\\Ket{11}$"
   ]
  },
  {
   "cell_type": "markdown",
   "metadata": {},
   "source": [
    "Thus, we with the prob of 50% will get either $\\Ket{10}$ or $\\Ket{11}$ and detect whether f(0) is equal to f(1), or not."
   ]
  }
 ],
 "metadata": {
  "kernelspec": {
   "display_name": "Python 3",
   "language": "python",
   "name": "python3"
  },
  "language_info": {
   "codemirror_mode": {
    "name": "ipython",
    "version": 3
   },
   "file_extension": ".py",
   "mimetype": "text/x-python",
   "name": "python",
   "nbconvert_exporter": "python",
   "pygments_lexer": "ipython3",
   "version": "3.8.3"
  }
 },
 "nbformat": 4,
 "nbformat_minor": 4
}
