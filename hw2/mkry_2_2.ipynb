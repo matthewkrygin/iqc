{
 "cells": [
  {
   "cell_type": "markdown",
   "metadata": {},
   "source": [
    "# Problem 2 of HW 2"
   ]
  },
  {
   "cell_type": "markdown",
   "metadata": {},
   "source": [
    "## Part (A)\n",
    "### n=1\n",
    "$\\newcommand{\\Ket}[1]{\\left|#1\\right>}$\n",
    "$\\newcommand{\\Bra}[1]{\\left<#1\\right|}$\n",
    "\n",
    "$$ H\\Ket{0} = \\frac{1}{\\sqrt{2 ^ 1}}\\begin{bmatrix} 1 & 1 \\\\ 1 & -1 \\end{bmatrix} \\begin{bmatrix} 1 \\\\ 0 \\end{bmatrix} = \\frac{1}{\\sqrt{2 ^ 1}}(1\\Ket{0} + 1\\Ket{1}) = \\frac{1}{\\sqrt{2 ^ 1}}((-1)^{0*0}\\Ket{0} + (-1)^{0*1}\\Ket{1})$$\n",
    "\n",
    "$$ H\\Ket{1} = \\frac{1}{\\sqrt{2 ^ 1}}\\begin{bmatrix} 1 & 1 \\\\ 1 & -1 \\end{bmatrix} \\begin{bmatrix} 0 \\\\ 1 \\end{bmatrix} = \\frac{1}{\\sqrt{2 ^ 1}}(1\\Ket{0} - 1\\Ket{1}) = \\frac{1}{\\sqrt{2 ^ 1}}((-1)^{1*0}\\Ket{0} + (-1)^{1*1}\\Ket{1})$$\n",
    "Proved for n = 1\n",
    "\n",
    "Using the theorem of mathematical induction, let it be right for all n = k\n",
    "$$ H^{\\otimes k}\\Ket{x}_k = \\frac{1}{\\sqrt{2 ^ k}}  \\sum_{z\\in\\{0,1\\}^k} (-1)^{ \\textit{x}\\bullet\\textit{z}} \\Ket{z} $$\n",
    "### n = k + 1\n",
    "#### for $\\Ket{0}$:\n",
    "$$ H^{\\otimes (k+1)}\\Ket{x}_k \\Ket{0} = \\frac{1}{\\sqrt{2 ^ {k}}}  \\sum_{z\\in\\{0,1\\}^k} (-1)^{ \\textit{x}\\bullet\\textit{z}} \\Ket{z} H \\Ket{0} = \\frac{1}{\\sqrt{2 ^ {k+1}}}  \\sum_{z\\in\\{0,1\\}^{k}} (-1)^{ \\textit{x}\\bullet\\textit{z}} \\Ket{z} (\\Ket{0} + \\Ket{1}) = \\frac{1}{\\sqrt{2 ^ {k+1}}}  \\sum_{z\\in\\{0,1\\}^{k+1}} (-1)^{ \\textit{x}\\bullet\\textit{z}} \\Ket{z}$$\n",
    "Because: $ \\{\\textit{x}, 0\\} \\bullet \\{\\textit{z},i\\} = \\textit{x} \\bullet \\textit{z} $, where i is equal to 0 or 1\n",
    "#### for $\\Ket{1}$:\n",
    "$$ H^{\\otimes (k+1)}\\Ket{x}_k \\Ket{1} = \\frac{1}{\\sqrt{2 ^ {k}}}  \\sum_{z\\in\\{0,1\\}^k} (-1)^{ \\textit{x}\\bullet\\textit{z}} \\Ket{z} H \\Ket{1} = \\frac{1}{\\sqrt{2 ^ {k+1}}}  \\sum_{z\\in\\{0,1\\}^{k}} (-1)^{ \\textit{x}\\bullet\\textit{z}} \\Ket{z} (\\Ket{0} - \\Ket{1}) = \\frac{1}{\\sqrt{2 ^ {k+1}}}  \\sum_{z\\in\\{0,1\\}^{k+1}} (-1)^{ \\textit{x`}\\bullet\\textit{z}} \\Ket{z}$$\n",
    "there $\\textit{x`} = \\{\\textit{x}, 1\\} $\n",
    "$$ \\{\\textit{x}, 1\\} \\bullet \\{\\textit{z},0\\} = \\textit{x} \\bullet \\textit{z} $$ $$ \\{\\textit{x}, 1\\} \\bullet \\{\\textit{z},1\\} = 1 - \\textit{x} \\bullet \\textit{z} $$"
   ]
  },
  {
   "cell_type": "markdown",
   "metadata": {},
   "source": [
    "## Part (B)\n",
    "$\\newcommand{\\Ket}[1]{\\left|#1\\right>}$\n",
    "$\\newcommand{\\Bra}[1]{\\left<#1\\right|}$\n",
    "\n",
    "$$ \\frac{1}{\\sqrt{2}} H^{\\otimes k}(\\Ket{x} + \\Ket{y}) = \\frac{1}{\\sqrt{2 ^ {k+1}}}  \\sum_{z\\in s} ((-1)^{ \\textit{x}\\bullet\\textit{z}} + (-1)^{ \\textit{y}\\bullet\\textit{z}})\\Ket{z} $$\n",
    "$ (-1) ^ {\\textit{x} \\bullet \\textit{z}} + (-1) ^ {\\textit{y} \\bullet \\textit{z}} $ can be equal to 0. It is equal to 0, when ${\\textit{x} \\bullet \\textit{z}} \\neq {\\textit{y} \\bullet \\textit{z}}$; otherwise ${\\textit{x} \\bullet \\textit{z}} = {\\textit{y} \\bullet \\textit{z}}$, and $ (-1) ^ {\\textit{x} \\bullet \\textit{z}} + (-1) ^ {\\textit{y} \\bullet \\textit{z}} = 2((-1) ^ {\\textit{x} \\bullet \\textit{z}})$\n",
    "\n",
    "${\\textit{x} \\bullet \\textit{z}} \\neq {\\textit{y} \\bullet \\textit{z}} \\Rightarrow 1 = x \\bullet z \\oplus y \\bullet z = (x \\oplus y) \\bullet z = s^\\perp \\bullet z $\n",
    "\n",
    "for $ {z\\in s \\setminus s^\\perp} , (x \\oplus y) \\bullet z = 0$ \n",
    "$$ \\frac{1}{\\sqrt{2}} H^{\\otimes k}(\\Ket{x} + \\Ket{y}) = \\frac{1}{\\sqrt{2 ^ {k-1}}}  \\sum_{z\\in s^\\perp} (-1)^{ \\textit{x}\\bullet\\textit{z}}\\Ket{z} $$"
   ]
  },
  {
   "cell_type": "code",
   "execution_count": null,
   "metadata": {},
   "outputs": [],
   "source": []
  }
 ],
 "metadata": {
  "kernelspec": {
   "display_name": "Python 3",
   "language": "python",
   "name": "python3"
  },
  "language_info": {
   "codemirror_mode": {
    "name": "ipython",
    "version": 3
   },
   "file_extension": ".py",
   "mimetype": "text/x-python",
   "name": "python",
   "nbconvert_exporter": "python",
   "pygments_lexer": "ipython3",
   "version": "3.8.3"
  }
 },
 "nbformat": 4,
 "nbformat_minor": 4
}
