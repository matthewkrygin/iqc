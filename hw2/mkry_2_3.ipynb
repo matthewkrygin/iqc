{
 "cells": [
  {
   "cell_type": "markdown",
   "metadata": {},
   "source": [
    "# Problem 3 of HW 2"
   ]
  },
  {
   "cell_type": "markdown",
   "metadata": {},
   "source": [
    "The vectors from orthogonal space is [000, 011, 101, 110] "
   ]
  },
  {
   "cell_type": "markdown",
   "metadata": {},
   "source": [
    "We need to check the probability of having 2 non-equal non-zero vectors from the random picking 4 of them"
   ]
  },
  {
   "cell_type": "markdown",
   "metadata": {},
   "source": [
    "We have: $ 4^4 = 2^8 = 256 $ possible cases   "
   ]
  },
  {
   "cell_type": "markdown",
   "metadata": {},
   "source": [
    "we have 4 cases when one state was picked."
   ]
  },
  {
   "cell_type": "markdown",
   "metadata": {},
   "source": [
    "we have 12 + 18 + 12 cases when 1/2/3 picked state is zero and other 3/2/1 are equal to one state. The number of cases can be calculated using combination formula: $$ \\left( \\begin{matrix} n \\\\ k \\end{matrix} \\right) = \\frac{n!}{k!(n-k)!}$$"
   ]
  },
  {
   "cell_type": "markdown",
   "metadata": {},
   "source": [
    "We have to choose n as 1, 2, 3. k is equal to 4. Then the acquired numbers should be multiplied to 3 - number of non-equal states.\n",
    "Now let's calculate the possibility of the 2 states independency."
   ]
  },
  {
   "cell_type": "code",
   "execution_count": 2,
   "metadata": {},
   "outputs": [
    {
     "data": {
      "text/plain": [
       "0.8203125"
      ]
     },
     "execution_count": 2,
     "metadata": {},
     "output_type": "execute_result"
    }
   ],
   "source": [
    "1 - 46 / 256"
   ]
  },
  {
   "cell_type": "markdown",
   "metadata": {},
   "source": [
    "Lets check the formulae from the task"
   ]
  },
  {
   "cell_type": "code",
   "execution_count": 5,
   "metadata": {},
   "outputs": [
    {
     "name": "stdout",
     "output_type": "stream",
     "text": [
      "0.8203125\n"
     ]
    }
   ],
   "source": [
    "q = 1\n",
    "n = 3\n",
    "x = 1\n",
    "for i in range(2, n + 1):\n",
    "    q *= (1 - 1 / (2 ** (i + x)))\n",
    "print(q)"
   ]
  },
  {
   "cell_type": "markdown",
   "metadata": {},
   "source": [
    "etc."
   ]
  }
 ],
 "metadata": {
  "kernelspec": {
   "display_name": "Python 3",
   "language": "python",
   "name": "python3"
  },
  "language_info": {
   "codemirror_mode": {
    "name": "ipython",
    "version": 3
   },
   "file_extension": ".py",
   "mimetype": "text/x-python",
   "name": "python",
   "nbconvert_exporter": "python",
   "pygments_lexer": "ipython3",
   "version": "3.8.3"
  }
 },
 "nbformat": 4,
 "nbformat_minor": 4
}
