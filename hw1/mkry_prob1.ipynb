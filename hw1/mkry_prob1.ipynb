{
 "cells": [
  {
   "cell_type": "markdown",
   "metadata": {},
   "source": [
    "Problem 1\n",
    "---"
   ]
  },
  {
   "cell_type": "code",
   "execution_count": 104,
   "metadata": {},
   "outputs": [],
   "source": [
    "from qiskit import *\n",
    "from math import *\n",
    "import random"
   ]
  },
  {
   "cell_type": "code",
   "execution_count": 105,
   "metadata": {},
   "outputs": [],
   "source": [
    "def _mes1(qc, simulator = BasicAer.get_backend('qasm_simulator'), shots = 10000):\n",
    "    circuit = qc.copy() # to keep circuit unchanged\n",
    "    circuit.measure([0], [0])\n",
    "\n",
    "    job = execute(circuit, simulator, shots = shots)\n",
    "    result = job.result().get_counts(circuit)\n",
    "    prob = {'1':result['1']/shots, '0':result['0']/shots}\n",
    "    print(prob, \"is probabilities of each state\")    \n",
    "    return prob"
   ]
  },
  {
   "cell_type": "code",
   "execution_count": null,
   "metadata": {},
   "outputs": [],
   "source": [
    "theta = pi / 3\n",
    "phi = random.random() * pi"
   ]
  },
  {
   "cell_type": "code",
   "execution_count": 106,
   "metadata": {},
   "outputs": [
    {
     "data": {
      "image/png": "[encoded data removed]",
      "text/plain": [
       "<Figure size 247.906x144.48 with 1 Axes>"
      ]
     },
     "execution_count": 106,
     "metadata": {},
     "output_type": "execute_result"
    }
   ],
   "source": [
    "qc1 = QuantumCircuit(1,1) # Create a quantum circuit with one qubit\n",
    "initial_state = [cos(theta), sin(theta) * (cos(phi) + 1j*sin(phi))]   # Define initial_state as pointed in the task 2\n",
    "qc1.initialize(initial_state, 0)\n",
    "qc1.draw('mpl')"
   ]
  },
  {
   "cell_type": "code",
   "execution_count": 107,
   "metadata": {},
   "outputs": [
    {
     "name": "stdout",
     "output_type": "stream",
     "text": [
      "{'1': 0.7487, '0': 0.2513} is probabilities of each state\n"
     ]
    },
    {
     "data": {
      "text/plain": [
       "{'1': 0.7487, '0': 0.2513}"
      ]
     },
     "execution_count": 107,
     "metadata": {},
     "output_type": "execute_result"
    }
   ],
   "source": [
    "_mes1(qc1)"
   ]
  },
  {
   "cell_type": "code",
   "execution_count": 108,
   "metadata": {},
   "outputs": [
    {
     "data": {
      "image/png": "[encoded data removed]",
      "text/plain": [
       "<Figure size 308.106x144.48 with 1 Axes>"
      ]
     },
     "execution_count": 108,
     "metadata": {},
     "output_type": "execute_result"
    }
   ],
   "source": [
    "qc1.h(0)\n",
    "qc1.draw('mpl')\n"
   ]
  },
  {
   "cell_type": "code",
   "execution_count": 109,
   "metadata": {},
   "outputs": [
    {
     "name": "stdout",
     "output_type": "stream",
     "text": [
      "{'1': 0.2021, '0': 0.7979} is probabilities of each state\n",
      "0.7979\n",
      "0.8203083918191039 is randomly generated phi\n",
      "0.8121073441214175 is calculated phi\n"
     ]
    }
   ],
   "source": [
    "res = _mes1(qc1)['0']\n",
    "print(phi, \"is randomly generated phi\")\n",
    "print(acos((2. * res - 1.) / sin(2. * (theta))), \"is calculated phi\")"
   ]
  },
  {
   "cell_type": "code",
   "execution_count": null,
   "metadata": {},
   "outputs": [],
   "source": []
  }
 ],
 "metadata": {
  "kernelspec": {
   "display_name": "Python 3",
   "language": "python",
   "name": "python3"
  },
  "language_info": {
   "codemirror_mode": {
    "name": "ipython",
    "version": 3
   },
   "file_extension": ".py",
   "mimetype": "text/x-python",
   "name": "python",
   "nbconvert_exporter": "python",
   "pygments_lexer": "ipython3",
   "version": "3.8.3"
  }
 },
 "nbformat": 4,
 "nbformat_minor": 4
}
