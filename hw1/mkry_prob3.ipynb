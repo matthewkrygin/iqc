{
 "cells": [
  {
   "cell_type": "markdown",
   "metadata": {},
   "source": [
    "Problem 3\n",
    "---"
   ]
  },
  {
   "cell_type": "code",
   "execution_count": 1,
   "metadata": {},
   "outputs": [],
   "source": [
    "from qiskit import *\n",
    "from math import *\n",
    "import random"
   ]
  },
  {
   "cell_type": "markdown",
   "metadata": {},
   "source": [
    "$\\newcommand{\\Ket}[1]{\\left|#1\\right>}$\n",
    "$\\newcommand{\\Bra}[1]{\\left<#1\\right|}$"
   ]
  },
  {
   "cell_type": "code",
   "execution_count": 6,
   "metadata": {},
   "outputs": [],
   "source": [
    "backend = Aer.get_backend('unitary_simulator')\n",
    "\n",
    "def get_dla(qc, backend = backend):\n",
    "    unitary = execute(qc,backend).result().get_unitary()\n",
    "    print(unitary)\n",
    "\n"
   ]
  },
  {
   "cell_type": "markdown",
   "metadata": {},
   "source": [
    "# a)$$\\frac {1} {2}\n",
    "\\begin{bmatrix} 1 &  1 \\\\\n",
    "                1 & -1 \\end{bmatrix}\n",
    "\\begin{bmatrix} 0 &  1 \\\\\n",
    "                1 & 0 \\end{bmatrix}\n",
    "\\begin{bmatrix} 1 &  1 \\\\\n",
    "                1 & -1 \\end{bmatrix} = \n",
    "\\frac {1} {2}\n",
    "\\begin{bmatrix} 1 &  1 \\\\\n",
    "                1 & -1 \\end{bmatrix}\n",
    "\\begin{bmatrix} 1 & -1 \\\\\n",
    "                1 &  1 \\end{bmatrix} = \n",
    "\\begin{bmatrix} 1 &  0 \\\\\n",
    "                0 & -1 \\end{bmatrix} = Z $$"
   ]
  },
  {
   "cell_type": "code",
   "execution_count": 4,
   "metadata": {},
   "outputs": [
    {
     "data": {
      "image/png": "[encoded data removed]",
      "text/plain": [
       "<Figure size 308.106x144.48 with 1 Axes>"
      ]
     },
     "execution_count": 4,
     "metadata": {},
     "output_type": "execute_result"
    }
   ],
   "source": [
    "qc_a_lhs = QuantumCircuit(1,1)\n",
    "qc_a_lhs.h(0)\n",
    "qc_a_lhs.x(0)\n",
    "qc_a_lhs.h(0)\n",
    "qc_a_lhs.draw('mpl')\n"
   ]
  },
  {
   "cell_type": "code",
   "execution_count": 5,
   "metadata": {},
   "outputs": [
    {
     "data": {
      "image/png": "[encoded data removed]",
      "text/plain": [
       "<Figure size 187.706x144.48 with 1 Axes>"
      ]
     },
     "execution_count": 5,
     "metadata": {},
     "output_type": "execute_result"
    }
   ],
   "source": [
    "qc_a_rhs = QuantumCircuit(1,1)\n",
    "qc_a_rhs.z(0)\n",
    "qc_a_rhs.draw('mpl')"
   ]
  },
  {
   "cell_type": "markdown",
   "metadata": {},
   "source": [
    "a)$$\\frac {1} {2}\n",
    "\\begin{bmatrix} 1 &  1 \\\\\n",
    "                1 & -1 \\end{bmatrix}\n",
    "\\begin{bmatrix} 0 &  1 \\\\\n",
    "                1 & 0 \\end{bmatrix}\n",
    "\\begin{bmatrix} 1 &  1 \\\\\n",
    "                1 & -1 \\end{bmatrix} = \n",
    "\\frac {1} {2}\n",
    "\\begin{bmatrix} 1 &  1 \\\\\n",
    "                1 & -1 \\end{bmatrix}\n",
    "\\begin{bmatrix} 1 & -1 \\\\\n",
    "                1 &  1 \\end{bmatrix} = \n",
    "\\begin{bmatrix} 1 &  0 \\\\\n",
    "                0 & -1 \\end{bmatrix} = Z $$"
   ]
  },
  {
   "cell_type": "code",
   "execution_count": 8,
   "metadata": {},
   "outputs": [
    {
     "name": "stdout",
     "output_type": "stream",
     "text": [
      "[[ 1.-6.1232340e-17j  0.-6.1232340e-17j]\n",
      " [ 0.+6.1232340e-17j -1.+1.8369702e-16j]]\n",
      "[[ 1.+0.j  0.+0.j]\n",
      " [-0.+0.j -1.+0.j]]\n"
     ]
    }
   ],
   "source": [
    "get_dla(qc_a_lhs)\n",
    "get_dla(qc_a_rhs)"
   ]
  },
  {
   "cell_type": "markdown",
   "metadata": {},
   "source": [
    "# b)$$Z = \n",
    "\\begin{bmatrix} 1 &  0 \\\\\n",
    "                0 & -1 \\end{bmatrix}, cZ_{01}=\\Ket{0}\\Bra{0}{\\otimes}I + \\Ket{1}\\Bra{1}{\\otimes}Z = I{\\otimes}\\Ket{0}\\Bra{0} + Z{\\otimes}\\Ket{1}\\Bra{1}$$ $$-> cZ_{01} = cZ_{10}$$"
   ]
  },
  {
   "cell_type": "markdown",
   "metadata": {},
   "source": [
    "# b)$$Z = \n",
    "\\begin{bmatrix} 1 &  0 \\\\\n",
    "                0 & -1 \\end{bmatrix}, cZ_{01}=\\Ket{0}\\Bra{0}{\\otimes}I + \\Ket{1}\\Bra{1}{\\otimes}Z = I{\\otimes}\\Ket{0}\\Bra{0} + Z{\\otimes}\\Ket{1}\\Bra{1}$$ $$-> cZ_{01} = cZ_{10}$$"
   ]
  },
  {
   "cell_type": "code",
   "execution_count": null,
   "metadata": {},
   "outputs": [],
   "source": [
    "c)"
   ]
  }
 ],
 "metadata": {
  "kernelspec": {
   "display_name": "Python 3",
   "language": "python",
   "name": "python3"
  },
  "language_info": {
   "codemirror_mode": {
    "name": "ipython",
    "version": 3
   },
   "file_extension": ".py",
   "mimetype": "text/x-python",
   "name": "python",
   "nbconvert_exporter": "python",
   "pygments_lexer": "ipython3",
   "version": "3.8.3"
  }
 },
 "nbformat": 4,
 "nbformat_minor": 4
}
