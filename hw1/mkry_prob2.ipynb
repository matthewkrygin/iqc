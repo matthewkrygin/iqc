{
 "cells": [
  {
   "cell_type": "markdown",
   "metadata": {},
   "source": [
    "Problem 2\n",
    "---"
   ]
  },
  {
   "cell_type": "code",
   "execution_count": 24,
   "metadata": {},
   "outputs": [],
   "source": [
    "from qiskit import *\n",
    "from math import *\n",
    "import random"
   ]
  },
  {
   "cell_type": "code",
   "execution_count": 26,
   "metadata": {},
   "outputs": [],
   "source": [
    "def _equ2(qc, simulator = BasicAer.get_backend('qasm_simulator'), shots = 8000):\n",
    "    circuit = qc.copy() # to keep circuit unchanged\n",
    "    circuit.measure([0], [0])\n",
    "    circuit.measure([1], [1])\n",
    "\n",
    "    job = execute(circuit, simulator, shots = shots)\n",
    "    result = job.result().get_counts(circuit)\n",
    "        \n",
    "    p1 = result['00'] + result['01']\n",
    "    p1 /= shots\n",
    "    p2 = result['00'] + result['10']\n",
    "    p2 /= shots\n",
    "    \n",
    "    print(result)\n",
    "\n",
    "    print(p1, \"is probabilities of 0 state 0 qubit\")\n",
    "    print(p2, \"is probabilities of 0 state 1 qubit\")\n",
    "    print(abs(p1 - p2) / max(p1, p2), \"is rel error of proposed scheme\")\n",
    "    return {p1, p2}\n",
    "\n",
    "def calc_phi(res, theta):\n",
    "    return acos((2. * res - 1.) / sin(2. * (theta)))"
   ]
  },
  {
   "cell_type": "code",
   "execution_count": 27,
   "metadata": {},
   "outputs": [
    {
     "name": "stderr",
     "output_type": "stream",
     "text": [
      "C:\\_N\\anaconda\\lib\\site-packages\\qiskit\\providers\\ibmq\\ibmqfactory.py:192: UserWarning: Timestamps in IBMQ backend properties, jobs, and job results are all now in local time instead of UTC.\n",
      "  warnings.warn('Timestamps in IBMQ backend properties, jobs, and job results '\n",
      "ibmqfactory.load_account:WARNING:2020-09-25 07:39:30,810: Credentials are already in use. The existing account in the session will be replaced.\n"
     ]
    },
    {
     "data": {
      "text/plain": [
       "<AccountProvider for IBMQ(hub='ibm-q', group='open', project='main')>"
      ]
     },
     "execution_count": 27,
     "metadata": {},
     "output_type": "execute_result"
    }
   ],
   "source": [
    "IBMQ.load_account()"
   ]
  },
  {
   "cell_type": "code",
   "execution_count": 28,
   "metadata": {},
   "outputs": [],
   "source": [
    "my_provider = IBMQ.get_provider()"
   ]
  },
  {
   "cell_type": "code",
   "execution_count": 29,
   "metadata": {},
   "outputs": [
    {
     "data": {
      "text/plain": [
       "[<IBMQSimulator('ibmq_qasm_simulator') from IBMQ(hub='ibm-q', group='open', project='main')>,\n",
       " <IBMQBackend('ibmqx2') from IBMQ(hub='ibm-q', group='open', project='main')>,\n",
       " <IBMQBackend('ibmq_16_melbourne') from IBMQ(hub='ibm-q', group='open', project='main')>,\n",
       " <IBMQBackend('ibmq_vigo') from IBMQ(hub='ibm-q', group='open', project='main')>,\n",
       " <IBMQBackend('ibmq_ourense') from IBMQ(hub='ibm-q', group='open', project='main')>,\n",
       " <IBMQBackend('ibmq_valencia') from IBMQ(hub='ibm-q', group='open', project='main')>,\n",
       " <IBMQBackend('ibmq_london') from IBMQ(hub='ibm-q', group='open', project='main')>,\n",
       " <IBMQBackend('ibmq_burlington') from IBMQ(hub='ibm-q', group='open', project='main')>,\n",
       " <IBMQBackend('ibmq_essex') from IBMQ(hub='ibm-q', group='open', project='main')>,\n",
       " <IBMQBackend('ibmq_armonk') from IBMQ(hub='ibm-q', group='open', project='main')>,\n",
       " <IBMQBackend('ibmq_santiago') from IBMQ(hub='ibm-q', group='open', project='main')>]"
      ]
     },
     "execution_count": 29,
     "metadata": {},
     "output_type": "execute_result"
    }
   ],
   "source": [
    "my_provider.backends()"
   ]
  },
  {
   "cell_type": "code",
   "execution_count": 30,
   "metadata": {},
   "outputs": [],
   "source": [
    "theta = pi / 3\n",
    "phi = random.random() * pi\n",
    "\n",
    "backend_cloud = my_provider.get_backend('ibmq_ourense')\n",
    "backend_local = Aer.get_backend('qasm_simulator')"
   ]
  },
  {
   "cell_type": "code",
   "execution_count": 31,
   "metadata": {},
   "outputs": [
    {
     "data": {
      "image/png": "[encoded data removed]",
      "text/plain": [
       "<Figure size 562.032x204.68 with 1 Axes>"
      ]
     },
     "execution_count": 31,
     "metadata": {},
     "output_type": "execute_result"
    }
   ],
   "source": [
    "\n",
    "qc2.draw('mpl')"
   ]
  },
  {
   "cell_type": "markdown",
   "metadata": {},
   "source": [
    "$\\newcommand{\\Ket}[1]{\\left|#1\\right>}$\n",
    "$\\newcommand{\\Bra}[1]{\\left<#1\\right|}$\n",
    "\n",
    "$ H = \\frac {1} {\\sqrt2} \\begin{bmatrix}1&1\\\\1&-1\\end{bmatrix} $\n",
    "Proposed circuit is: $ H R_z(2\\theta) H S R_z(\\phi) $\n",
    "\n",
    "*Proof.*: $$HR_z(2\\theta) H S R_z(\\phi) \\Ket{0} =\n",
    "\\frac {1} {2}\n",
    "\\begin{bmatrix} e^{-i\\phi/2} & 0  \\\\\n",
    "                0 & e^{i\\phi/2}   \\end{bmatrix}\n",
    "\\begin{bmatrix} 1 & 0  \\\\\n",
    "                0 & i  \\end{bmatrix}\n",
    "\\begin{bmatrix} 1 &  1 \\\\\n",
    "                1 & -1 \\end{bmatrix}\n",
    "\\begin{bmatrix} e^{-i\\theta} & 0  \\\\\n",
    "                0 & e^{i\\theta}   \\end{bmatrix}\n",
    "\\begin{bmatrix} 1 &  1 \\\\\n",
    "                1 & -1 \\end{bmatrix}\n",
    "\\begin{bmatrix} 1 \\\\ 0 \\end{bmatrix} = $$\n",
    "$$=\n",
    "\\frac {1} {2}\n",
    "\\begin{bmatrix} e^{-i\\phi/2} & 0  \\\\\n",
    "                0 & e^{i\\phi/2}   \\end{bmatrix}\n",
    "\\begin{bmatrix} 1 & 0  \\\\\n",
    "                0 & i  \\end{bmatrix}\n",
    "\\begin{bmatrix} 1 &  1 \\\\\n",
    "                1 & -1 \\end{bmatrix}\n",
    "\\begin{bmatrix} e^{-i\\theta} & 0  \\\\\n",
    "                0 & e^{i\\theta}   \\end{bmatrix}\n",
    "\\begin{bmatrix} 1 \\\\ 1 \\end{bmatrix} = $$\n",
    "$$=\n",
    "\\frac {1} {2}\n",
    "\\begin{bmatrix} e^{-i\\phi/2} & 0  \\\\\n",
    "                0 & e^{i\\phi/2}   \\end{bmatrix}\n",
    "\\begin{bmatrix} 1 & 0  \\\\\n",
    "                0 & i  \\end{bmatrix}\n",
    "\\begin{bmatrix} e^{-i\\theta} + e^{i\\theta}  \\\\\n",
    "                e^{-i\\theta} - e^{i\\theta}  \\end{bmatrix} = \n",
    "\\begin{bmatrix} e^{-i\\phi/2} & 0  \\\\\n",
    "                0 & e^{i\\phi/2}   \\end{bmatrix}\n",
    "\\begin{bmatrix} \\cos{\\theta}  \\\\\n",
    "                \\sin{\\theta}  \\end{bmatrix} = $$\n",
    "$$=\n",
    "\\begin{bmatrix} e^{-i\\phi/2} & 0  \\\\\n",
    "                0 & e^{i\\phi/2}   \\end{bmatrix}\n",
    "\\begin{bmatrix} \\cos{\\theta}  \\\\\n",
    "                \\sin{\\theta}  \\end{bmatrix} = e^{-i\\phi/2}\\cos{\\theta}\\Ket{0} + e^{i\\phi/2}\\sin{\\theta}\\Ket{1}$$\n",
    "That state is equivalent to \n",
    "$ \\cos{\\theta}\\Ket{0} + e^{i\\phi}\\sin{\\theta}\\Ket{1}$"
   ]
  },
  {
   "cell_type": "code",
   "execution_count": 32,
   "metadata": {},
   "outputs": [
    {
     "data": {
      "image/png": "[encoded data removed]",
      "text/plain": [
       "<Figure size 501.832x204.68 with 1 Axes>"
      ]
     },
     "execution_count": 32,
     "metadata": {},
     "output_type": "execute_result"
    }
   ],
   "source": [
    "qc2 = QuantumCircuit(2,2) # Create a quantum circuit with one qubit\n",
    "\n",
    "qc2.h(0)\n",
    "qc2.rz(2*theta, 0)\n",
    "qc2.h(0)\n",
    "qc2.s(0)\n",
    "qc2.rz(phi, 0)\n",
    "\n",
    "qc2.u3(2*theta, phi, 0, 1)\n",
    "qc2.draw('mpl')"
   ]
  },
  {
   "cell_type": "code",
   "execution_count": 33,
   "metadata": {},
   "outputs": [
    {
     "name": "stdout",
     "output_type": "stream",
     "text": [
      "{'00': 478, '01': 1470, '10': 1478, '11': 4574}\n",
      "0.2435 is probabilities of 0 state 0 qubit\n",
      "0.2445 is probabilities of 0 state 1 qubit\n",
      "0.004089979550102253 is rel error of proposed scheme\n"
     ]
    },
    {
     "data": {
      "text/plain": [
       "{0.2435, 0.2445}"
      ]
     },
     "execution_count": 33,
     "metadata": {},
     "output_type": "execute_result"
    }
   ],
   "source": [
    "_equ2(qc2, backend_local)"
   ]
  },
  {
   "cell_type": "code",
   "execution_count": 34,
   "metadata": {},
   "outputs": [
    {
     "name": "stdout",
     "output_type": "stream",
     "text": [
      "{'00': 121, '01': 270, '10': 172, '11': 461}\n",
      "0.3818359375 is probabilities of 0 state 0 qubit\n",
      "0.2861328125 is probabilities of 0 state 1 qubit\n",
      "0.2506393861892583 is rel error of proposed scheme\n"
     ]
    },
    {
     "data": {
      "text/plain": [
       "{0.2861328125, 0.3818359375}"
      ]
     },
     "execution_count": 34,
     "metadata": {},
     "output_type": "execute_result"
    }
   ],
   "source": [
    "_equ2(qc2, backend_cloud, 1024)"
   ]
  },
  {
   "cell_type": "code",
   "execution_count": 23,
   "metadata": {},
   "outputs": [
    {
     "name": "stdout",
     "output_type": "stream",
     "text": [
      "{'00': 7349, '01': 1222, '10': 1236, '11': 193}\n",
      "0.8571 is probabilities of 0 state 0 qubit\n",
      "0.8585 is probabilities of 0 state 1 qubit\n",
      "0.001630751310425239 is rel error of proposed scheme\n"
     ]
    }
   ],
   "source": [
    "qc2.h(0)\n",
    "qc2.h(1)\n",
    "\n",
    "_equ2(qc2, backend_local)\n",
    "_equ2(qc2, backend_cloud)"
   ]
  },
  {
   "cell_type": "code",
   "execution_count": null,
   "metadata": {},
   "outputs": [],
   "source": []
  }
 ],
 "metadata": {
  "kernelspec": {
   "display_name": "Python 3",
   "language": "python",
   "name": "python3"
  },
  "language_info": {
   "codemirror_mode": {
    "name": "ipython",
    "version": 3
   },
   "file_extension": ".py",
   "mimetype": "text/x-python",
   "name": "python",
   "nbconvert_exporter": "python",
   "pygments_lexer": "ipython3",
   "version": "3.8.3"
  }
 },
 "nbformat": 4,
 "nbformat_minor": 4
}
